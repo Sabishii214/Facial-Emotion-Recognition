{
  "nbformat": 4,
  "nbformat_minor": 0,
  "metadata": {
    "colab": {
      "provenance": [],
      "gpuType": "T4"
    },
    "kernelspec": {
      "name": "python3",
      "display_name": "Python 3"
    },
    "language_info": {
      "name": "python"
    },
    "accelerator": "GPU"
  },
  "cells": [
    {
      "cell_type": "code",
      "source": [
        "!nvidia-smi"
      ],
      "metadata": {
        "colab": {
          "base_uri": "https://localhost:8080/"
        },
        "id": "dzmx8x0rY-6m",
        "outputId": "c69c037f-9df4-4344-b5c7-b65b66fb469b"
      },
      "execution_count": 41,
      "outputs": [
        {
          "output_type": "stream",
          "name": "stdout",
          "text": [
            "Sun Jun 29 13:42:56 2025       \n",
            "+-----------------------------------------------------------------------------------------+\n",
            "| NVIDIA-SMI 550.54.15              Driver Version: 550.54.15      CUDA Version: 12.4     |\n",
            "|-----------------------------------------+------------------------+----------------------+\n",
            "| GPU  Name                 Persistence-M | Bus-Id          Disp.A | Volatile Uncorr. ECC |\n",
            "| Fan  Temp   Perf          Pwr:Usage/Cap |           Memory-Usage | GPU-Util  Compute M. |\n",
            "|                                         |                        |               MIG M. |\n",
            "|=========================================+========================+======================|\n",
            "|   0  Tesla T4                       Off |   00000000:00:04.0 Off |                    0 |\n",
            "| N/A   76C    P0             32W /   70W |    1158MiB /  15360MiB |      0%      Default |\n",
            "|                                         |                        |                  N/A |\n",
            "+-----------------------------------------+------------------------+----------------------+\n",
            "                                                                                         \n",
            "+-----------------------------------------------------------------------------------------+\n",
            "| Processes:                                                                              |\n",
            "|  GPU   GI   CI        PID   Type   Process name                              GPU Memory |\n",
            "|        ID   ID                                                               Usage      |\n",
            "|=========================================================================================|\n",
            "+-----------------------------------------------------------------------------------------+\n"
          ]
        }
      ]
    },
    {
      "cell_type": "code",
      "source": [
        "!wget https://www.dropbox.com/s/si11cws2pyho1bp/archive.zip"
      ],
      "metadata": {
        "id": "kAA7Wg1mZCAi",
        "colab": {
          "base_uri": "https://localhost:8080/"
        },
        "outputId": "e2b5dc09-a475-44ab-a0f5-4f4325e5da82"
      },
      "execution_count": 42,
      "outputs": [
        {
          "output_type": "stream",
          "name": "stdout",
          "text": [
            "--2025-06-29 13:42:56--  https://www.dropbox.com/s/si11cws2pyho1bp/archive.zip\n",
            "Resolving www.dropbox.com (www.dropbox.com)... 162.125.81.18, 2620:100:6030:18::a27d:5012\n",
            "Connecting to www.dropbox.com (www.dropbox.com)|162.125.81.18|:443... connected.\n",
            "HTTP request sent, awaiting response... 302 Found\n",
            "Location: https://www.dropbox.com/scl/fi/x9eaye2fanuc005ucprmq/archive.zip?rlkey=fawlx24mxtnicc8f65kd5ufap [following]\n",
            "--2025-06-29 13:42:57--  https://www.dropbox.com/scl/fi/x9eaye2fanuc005ucprmq/archive.zip?rlkey=fawlx24mxtnicc8f65kd5ufap\n",
            "Reusing existing connection to www.dropbox.com:443.\n",
            "HTTP request sent, awaiting response... 302 Found\n",
            "Location: https://uc70288d7e07c641e5143b996296.dl.dropboxusercontent.com/cd/0/inline/Csj0Ds1FX--7ojuEDs0K2xqJq1x9qO5-1_D19ox-mo1_WQpHa3oro-CCXTNmfynwV7qDefVVEReiOQfzpWNKg-6ElBuI-2BN0k66Pgl5lwLbpVxFKm8m0qIJejlr4ijOUxVlhMhS0wi9UmGMl0WA-TC8/file# [following]\n",
            "--2025-06-29 13:42:57--  https://uc70288d7e07c641e5143b996296.dl.dropboxusercontent.com/cd/0/inline/Csj0Ds1FX--7ojuEDs0K2xqJq1x9qO5-1_D19ox-mo1_WQpHa3oro-CCXTNmfynwV7qDefVVEReiOQfzpWNKg-6ElBuI-2BN0k66Pgl5lwLbpVxFKm8m0qIJejlr4ijOUxVlhMhS0wi9UmGMl0WA-TC8/file\n",
            "Resolving uc70288d7e07c641e5143b996296.dl.dropboxusercontent.com (uc70288d7e07c641e5143b996296.dl.dropboxusercontent.com)... 162.125.85.15, 2620:100:6031:15::a27d:510f\n",
            "Connecting to uc70288d7e07c641e5143b996296.dl.dropboxusercontent.com (uc70288d7e07c641e5143b996296.dl.dropboxusercontent.com)|162.125.85.15|:443... connected.\n",
            "HTTP request sent, awaiting response... 302 Found\n",
            "Location: /cd/0/inline2/CshidmDwgzxlIET2QWIIldezn7nyCZv7kWo4kDnSj9-yLH9XWikLwU-P4vOos88sgLpkNhErcf2YPt02gvIeXwx9DfHF9DHg-nBjCiB3Gtx1DlIsSd2RHb1jjgvGeOeY_wjzQfo82RnXECuPE1QKRXdGC2eZAAuDjpVU541p_I8YLx-oafUfHRerf2qidOr-QA_KxwAxpAaVLZXOUnUaLqCvwtSy4cg9tfEy-9XjMP-YylI4XEIRtOwcQ4n7sjW3VsWYT6U3wi4E3mMOLszmdc0DdL00ydiuhFp2xUJ_m2-Xqm6ELUMelDIXfiznmhKmOvlIPn8nM_tVx6FI3Q6BvZN7Oc5XR9lcgxcAy0qHNjkgwynuuDAnoA5L5_d50Jv8xeQ/file [following]\n",
            "--2025-06-29 13:42:58--  https://uc70288d7e07c641e5143b996296.dl.dropboxusercontent.com/cd/0/inline2/CshidmDwgzxlIET2QWIIldezn7nyCZv7kWo4kDnSj9-yLH9XWikLwU-P4vOos88sgLpkNhErcf2YPt02gvIeXwx9DfHF9DHg-nBjCiB3Gtx1DlIsSd2RHb1jjgvGeOeY_wjzQfo82RnXECuPE1QKRXdGC2eZAAuDjpVU541p_I8YLx-oafUfHRerf2qidOr-QA_KxwAxpAaVLZXOUnUaLqCvwtSy4cg9tfEy-9XjMP-YylI4XEIRtOwcQ4n7sjW3VsWYT6U3wi4E3mMOLszmdc0DdL00ydiuhFp2xUJ_m2-Xqm6ELUMelDIXfiznmhKmOvlIPn8nM_tVx6FI3Q6BvZN7Oc5XR9lcgxcAy0qHNjkgwynuuDAnoA5L5_d50Jv8xeQ/file\n",
            "Reusing existing connection to uc70288d7e07c641e5143b996296.dl.dropboxusercontent.com:443.\n",
            "HTTP request sent, awaiting response... 200 OK\n",
            "Length: 63252113 (60M) [application/zip]\n",
            "Saving to: ‘archive.zip.1’\n",
            "\n",
            "archive.zip.1       100%[===================>]  60.32M  20.7MB/s    in 2.9s    \n",
            "\n",
            "2025-06-29 13:43:01 (20.7 MB/s) - ‘archive.zip.1’ saved [63252113/63252113]\n",
            "\n"
          ]
        }
      ]
    },
    {
      "cell_type": "code",
      "source": [
        "!unzip -q \"/content/archive.zip\""
      ],
      "metadata": {
        "id": "XTkxrczcaNeT",
        "colab": {
          "base_uri": "https://localhost:8080/"
        },
        "outputId": "6fe3e8f9-f865-4a1e-b9e7-5539e043d494"
      },
      "execution_count": 43,
      "outputs": [
        {
          "output_type": "stream",
          "name": "stdout",
          "text": [
            "replace test/angry/PrivateTest_10131363.jpg? [y]es, [n]o, [A]ll, [N]one, [r]ename: y\n",
            "replace test/angry/PrivateTest_10304478.jpg? [y]es, [n]o, [A]ll, [N]one, [r]ename: N\n"
          ]
        }
      ]
    },
    {
      "cell_type": "code",
      "source": [
        "#Import required for this project\n",
        "import tensorflow as tf\n",
        "import numpy as np\n",
        "import matplotlib.pyplot as plt\n",
        "from pathlib import Path\n",
        "\n",
        "tf.random.set_seed(4)"
      ],
      "metadata": {
        "id": "UoHkEP5JaWuV"
      },
      "execution_count": 44,
      "outputs": []
    },
    {
      "cell_type": "code",
      "source": [
        "#Creating the Pathlib PATH objects\n",
        "train_path = Path(\"/content/train\")\n",
        "test_path = Path(\"/content/test\")"
      ],
      "metadata": {
        "id": "5l2BiicXa2Ky"
      },
      "execution_count": 45,
      "outputs": []
    },
    {
      "cell_type": "code",
      "source": [
        "#Getting Image paths\n",
        "train_image_paths = list(train_path.glob(\"*/*\"))\n",
        "test_image_paths = list(map(lambda x: str(x), train_image_paths))\n",
        "\n",
        "train_image_paths[:10]"
      ],
      "metadata": {
        "colab": {
          "base_uri": "https://localhost:8080/"
        },
        "id": "yX5d8YvBbRQK",
        "outputId": "bc421441-71f4-4d31-9b39-82d27548437d"
      },
      "execution_count": 46,
      "outputs": [
        {
          "output_type": "execute_result",
          "data": {
            "text/plain": [
              "[PosixPath('/content/train/angry/Training_85784799.jpg'),\n",
              " PosixPath('/content/train/angry/Training_54878698.jpg'),\n",
              " PosixPath('/content/train/angry/Training_76013291.jpg'),\n",
              " PosixPath('/content/train/angry/Training_57850656.jpg'),\n",
              " PosixPath('/content/train/angry/Training_9436506.jpg'),\n",
              " PosixPath('/content/train/angry/Training_93872864.jpg'),\n",
              " PosixPath('/content/train/angry/Training_20661113.jpg'),\n",
              " PosixPath('/content/train/angry/Training_3415081.jpg'),\n",
              " PosixPath('/content/train/angry/Training_32897989.jpg'),\n",
              " PosixPath('/content/train/angry/Training_8489443.jpg')]"
            ]
          },
          "metadata": {},
          "execution_count": 46
        }
      ]
    },
    {
      "cell_type": "code",
      "source": [
        "#Getting their respective labels\n",
        "\n",
        "def get_label(image_path):\n",
        "  return str(image_path).split(\"/\")[-2]\n",
        "\n",
        "train_image_labels = list(map(lambda x : get_label(x), train_image_paths))\n",
        "train_image_labels[:10]"
      ],
      "metadata": {
        "colab": {
          "base_uri": "https://localhost:8080/"
        },
        "id": "5diVyneRbh_g",
        "outputId": "6b1357e8-9b4e-46a5-88c0-7eff0d1b52ed"
      },
      "execution_count": 47,
      "outputs": [
        {
          "output_type": "execute_result",
          "data": {
            "text/plain": [
              "['angry',\n",
              " 'angry',\n",
              " 'angry',\n",
              " 'angry',\n",
              " 'angry',\n",
              " 'angry',\n",
              " 'angry',\n",
              " 'angry',\n",
              " 'angry',\n",
              " 'angry']"
            ]
          },
          "metadata": {},
          "execution_count": 47
        }
      ]
    },
    {
      "cell_type": "code",
      "source": [
        "from sklearn.preprocessing import LabelEncoder\n",
        "le = LabelEncoder()\n",
        "train_labels = le.fit_transform(train_image_labels)\n",
        "train_labels[:10]"
      ],
      "metadata": {
        "colab": {
          "base_uri": "https://localhost:8080/"
        },
        "id": "g9S6zQmocCyv",
        "outputId": "212e72fb-6d08-48b9-8d99-642a452350dd"
      },
      "execution_count": 48,
      "outputs": [
        {
          "output_type": "execute_result",
          "data": {
            "text/plain": [
              "array([0, 0, 0, 0, 0, 0, 0, 0, 0, 0])"
            ]
          },
          "metadata": {},
          "execution_count": 48
        }
      ]
    },
    {
      "cell_type": "code",
      "source": [
        "train_image_labels = tf.keras.utils.to_categorical(train_labels)\n",
        "train_image_labels[:10]"
      ],
      "metadata": {
        "colab": {
          "base_uri": "https://localhost:8080/"
        },
        "id": "gSoJM0rgczPa",
        "outputId": "151e8a1d-de34-4a39-c85a-7cea383d6f57"
      },
      "execution_count": 49,
      "outputs": [
        {
          "output_type": "execute_result",
          "data": {
            "text/plain": [
              "array([[1., 0., 0., 0., 0., 0., 0.],\n",
              "       [1., 0., 0., 0., 0., 0., 0.],\n",
              "       [1., 0., 0., 0., 0., 0., 0.],\n",
              "       [1., 0., 0., 0., 0., 0., 0.],\n",
              "       [1., 0., 0., 0., 0., 0., 0.],\n",
              "       [1., 0., 0., 0., 0., 0., 0.],\n",
              "       [1., 0., 0., 0., 0., 0., 0.],\n",
              "       [1., 0., 0., 0., 0., 0., 0.],\n",
              "       [1., 0., 0., 0., 0., 0., 0.],\n",
              "       [1., 0., 0., 0., 0., 0., 0.]])"
            ]
          },
          "metadata": {},
          "execution_count": 49
        }
      ]
    },
    {
      "cell_type": "code",
      "source": [
        "from sklearn.model_selection import train_test_split\n",
        "paths, Val_paths, train_labels, Val_labels = train_test_split(train_image_paths, train_image_labels, test_size=0.2)"
      ],
      "metadata": {
        "id": "FsiEUA3-c_iq"
      },
      "execution_count": 50,
      "outputs": []
    },
    {
      "cell_type": "code",
      "source": [
        "#Compute class weights\n",
        "classTotals = train_labels.sum(axis=0)\n",
        "classWeight = classTotals.max() / classTotals\n",
        "classWeight = {e : weight for e, weight in enumerate(classWeight.flatten())}\n",
        "print(classWeight)"
      ],
      "metadata": {
        "colab": {
          "base_uri": "https://localhost:8080/"
        },
        "id": "UECx3G95d-QN",
        "outputId": "4ebf5dd1-b3a6-421e-9a0b-88b876d64088"
      },
      "execution_count": 51,
      "outputs": [
        {
          "output_type": "stream",
          "name": "stdout",
          "text": [
            "{0: np.float64(1.8197802197802198), 1: np.float64(17.457831325301203), 2: np.float64(1.7779141104294478), 3: np.float64(1.0), 4: np.float64(1.4493623405851463), 5: np.float64(1.511342894393742), 6: np.float64(2.2640625)}\n"
          ]
        }
      ]
    },
    {
      "cell_type": "code",
      "source": [
        "#Function used for Transformation\n",
        "def load(image, label):\n",
        "  image = tf.io.read_file(image)\n",
        "  image = tf.image.decode_jpeg(image, channels=3)\n",
        "  return image, label"
      ],
      "metadata": {
        "id": "VrLA3_dwePww"
      },
      "execution_count": 52,
      "outputs": []
    },
    {
      "cell_type": "code",
      "source": [
        "#Data Augmentation\n",
        "#Define Image size and batch size\n",
        "import tensorflow as tf\n",
        "IMG_SIZE = 96\n",
        "BATCH_SIZE = 32\n",
        "\n",
        "#Basic Transformation\n",
        "resize = tf.keras.Sequential([\n",
        "    tf.keras.layers.Resizing(IMG_SIZE, IMG_SIZE) # Changed from tf.keras.layers.experimental.preprocessing.Resizing\n",
        "])\n",
        "\n",
        "#Data Augmentation\n",
        "data_augmentation = tf.keras.Sequential([\n",
        "    tf.keras.layers.RandomFlip(\"horizontal\"), # Changed from tf.keras.layers.experimental.preprocessing.RandomFlip\n",
        "    tf.keras.layers.RandomRotation(0.1), # Changed from tf.keras.layers.experimental.preprocessing.RandomRotation\n",
        "    tf.keras.layers.RandomZoom(height_factor = (-0.1, -0.05)) # Changed from tf.keras.layers.experimental.preprocessing.RandomZoom\n",
        "])"
      ],
      "metadata": {
        "id": "y6YRCCNtf84j"
      },
      "execution_count": 53,
      "outputs": []
    },
    {
      "cell_type": "code",
      "source": [
        "#Function used to create a Tensorflow Data Object\n",
        "AUTOTUNE = tf.data.AUTOTUNE\n",
        "def get_dataset(paths, labels, training=True):\n",
        "  # Convert PosixPath objects to strings before creating the tensor\n",
        "  image_paths = tf.convert_to_tensor([str(path) for path in paths])\n",
        "  labels = tf.convert_to_tensor(labels)\n",
        "\n",
        "  image_dataset = tf.data.Dataset.from_tensor_slices(image_paths)\n",
        "  label_dataset = tf.data.Dataset.from_tensor_slices(labels)\n",
        "\n",
        "  dataset = tf.data.Dataset.zip((image_dataset, label_dataset))\n",
        "\n",
        "  dataset = dataset.map(lambda image, label : load(image, label))\n",
        "  dataset = dataset.map(lambda image, label: (resize(image), label), num_parallel_calls=AUTOTUNE)\n",
        "  dataset = dataset.shuffle(1000)\n",
        "  dataset = dataset.batch(BATCH_SIZE)\n",
        "\n",
        "  if training:\n",
        "    dataset = dataset.map(lambda image, label: (data_augmentation(image), label), num_parallel_calls=AUTOTUNE)\n",
        "\n",
        "  dataset = dataset.repeat()\n",
        "  return dataset"
      ],
      "metadata": {
        "id": "BtQma3RTgMkd"
      },
      "execution_count": 54,
      "outputs": []
    },
    {
      "cell_type": "code",
      "source": [
        "#Creating Train Dataset object and verifying it\n",
        "train_dataset = get_dataset(paths, train_labels) # Removed %time\n",
        "%time next(iter(train_dataset)) #Added %time here to check performance if required.\n",
        "\n",
        "image, label = next(iter(train_dataset))\n",
        "print(image.shape)\n",
        "print(label.shape)"
      ],
      "metadata": {
        "colab": {
          "base_uri": "https://localhost:8080/"
        },
        "id": "61oLyAxciXH6",
        "outputId": "462b3232-d8d1-4914-b2e7-c7594ec1ce97"
      },
      "execution_count": 55,
      "outputs": [
        {
          "output_type": "stream",
          "name": "stdout",
          "text": [
            "CPU times: user 519 ms, sys: 132 ms, total: 651 ms\n",
            "Wall time: 434 ms\n",
            "(32, 96, 96, 3)\n",
            "(32, 7)\n"
          ]
        }
      ]
    },
    {
      "cell_type": "code",
      "source": [
        "#View a sample Training Image\n",
        "print(le.inverse_transform(np.argmax(label , axis =1))[0])\n",
        "plt.imshow((image[0].numpy()/255).reshape(96,96,3))"
      ],
      "metadata": {
        "id": "IAxg1c_Fi7u9",
        "colab": {
          "base_uri": "https://localhost:8080/",
          "height": 468
        },
        "outputId": "cd36715e-6487-49d6-9a74-b5cdaa694923"
      },
      "execution_count": 56,
      "outputs": [
        {
          "output_type": "stream",
          "name": "stdout",
          "text": [
            "angry\n"
          ]
        },
        {
          "output_type": "execute_result",
          "data": {
            "text/plain": [
              "<matplotlib.image.AxesImage at 0x7bdf87bc8390>"
            ]
          },
          "metadata": {},
          "execution_count": 56
        },
        {
          "output_type": "display_data",
          "data": {
            "text/plain": [
              "<Figure size 640x480 with 1 Axes>"
            ],
            "image/png": "[encoded data removed]"
          },
          "metadata": {}
        }
      ]
    },
    {
      "cell_type": "code",
      "source": [
        "%time val_dataset = get_dataset(Val_paths, Val_labels, training=False)\n",
        "\n",
        "image, label = next(iter(val_dataset))\n",
        "print(image.shape)\n",
        "print(label.shape)"
      ],
      "metadata": {
        "colab": {
          "base_uri": "https://localhost:8080/"
        },
        "id": "Vs9k_7uzr0Zu",
        "outputId": "1022c317-b403-41f6-e1d6-ae967a608159"
      },
      "execution_count": 57,
      "outputs": [
        {
          "output_type": "stream",
          "name": "stdout",
          "text": [
            "CPU times: user 43.2 ms, sys: 10 µs, total: 43.2 ms\n",
            "Wall time: 43 ms\n",
            "(32, 96, 96, 3)\n",
            "(32, 7)\n"
          ]
        }
      ]
    },
    {
      "cell_type": "code",
      "source": [
        "#Building EfficientNet Model\n",
        "from tensorflow.keras.applications import EfficientNetB2\n",
        "\n",
        "backbone = EfficientNetB2(\n",
        "    input_shape = (96, 96, 3),\n",
        "    include_top = False\n",
        ")\n",
        "\n",
        "model = tf.keras.Sequential([\n",
        "    backbone,\n",
        "    tf.keras.layers.GlobalAveragePooling2D(),\n",
        "    tf.keras.layers.Dropout(0.3),\n",
        "    tf.keras.layers.Dense(128, activation=\"relu\"),\n",
        "    tf.keras.layers.Dense(7, activation=\"softmax\")\n",
        "])\n",
        "\n",
        "model.summary()"
      ],
      "metadata": {
        "colab": {
          "base_uri": "https://localhost:8080/",
          "height": 323
        },
        "id": "N1Fox6T_t_m-",
        "outputId": "8b4bc300-7a69-47e4-d895-481d74f09bee"
      },
      "execution_count": 58,
      "outputs": [
        {
          "output_type": "display_data",
          "data": {
            "text/plain": [
              "\u001b[1mModel: \"sequential_5\"\u001b[0m\n"
            ],
            "text/html": [
              "<pre style=\"white-space:pre;overflow-x:auto;line-height:normal;font-family:Menlo,'DejaVu Sans Mono',consolas,'Courier New',monospace\"><span style=\"font-weight: bold\">Model: \"sequential_5\"</span>\n",
              "</pre>\n"
            ]
          },
          "metadata": {}
        },
        {
          "output_type": "display_data",
          "data": {
            "text/plain": [
              "┏━━━━━━━━━━━━━━━━━━━━━━━━━━━━━━━━━┳━━━━━━━━━━━━━━━━━━━━━━━━┳━━━━━━━━━━━━━━━┓\n",
              "┃\u001b[1m \u001b[0m\u001b[1mLayer (type)                   \u001b[0m\u001b[1m \u001b[0m┃\u001b[1m \u001b[0m\u001b[1mOutput Shape          \u001b[0m\u001b[1m \u001b[0m┃\u001b[1m \u001b[0m\u001b[1m      Param #\u001b[0m\u001b[1m \u001b[0m┃\n",
              "┡━━━━━━━━━━━━━━━━━━━━━━━━━━━━━━━━━╇━━━━━━━━━━━━━━━━━━━━━━━━╇━━━━━━━━━━━━━━━┩\n",
              "│ efficientnetb2 (\u001b[38;5;33mFunctional\u001b[0m)     │ (\u001b[38;5;45mNone\u001b[0m, \u001b[38;5;34m3\u001b[0m, \u001b[38;5;34m3\u001b[0m, \u001b[38;5;34m1408\u001b[0m)     │     \u001b[38;5;34m7,768,569\u001b[0m │\n",
              "├─────────────────────────────────┼────────────────────────┼───────────────┤\n",
              "│ global_average_pooling2d_1      │ (\u001b[38;5;45mNone\u001b[0m, \u001b[38;5;34m1408\u001b[0m)           │             \u001b[38;5;34m0\u001b[0m │\n",
              "│ (\u001b[38;5;33mGlobalAveragePooling2D\u001b[0m)        │                        │               │\n",
              "├─────────────────────────────────┼────────────────────────┼───────────────┤\n",
              "│ dropout_1 (\u001b[38;5;33mDropout\u001b[0m)             │ (\u001b[38;5;45mNone\u001b[0m, \u001b[38;5;34m1408\u001b[0m)           │             \u001b[38;5;34m0\u001b[0m │\n",
              "├─────────────────────────────────┼────────────────────────┼───────────────┤\n",
              "│ dense_2 (\u001b[38;5;33mDense\u001b[0m)                 │ (\u001b[38;5;45mNone\u001b[0m, \u001b[38;5;34m128\u001b[0m)            │       \u001b[38;5;34m180,352\u001b[0m │\n",
              "├─────────────────────────────────┼────────────────────────┼───────────────┤\n",
              "│ dense_3 (\u001b[38;5;33mDense\u001b[0m)                 │ (\u001b[38;5;45mNone\u001b[0m, \u001b[38;5;34m7\u001b[0m)              │           \u001b[38;5;34m903\u001b[0m │\n",
              "└─────────────────────────────────┴────────────────────────┴───────────────┘\n"
            ],
            "text/html": [
              "<pre style=\"white-space:pre;overflow-x:auto;line-height:normal;font-family:Menlo,'DejaVu Sans Mono',consolas,'Courier New',monospace\">┏━━━━━━━━━━━━━━━━━━━━━━━━━━━━━━━━━┳━━━━━━━━━━━━━━━━━━━━━━━━┳━━━━━━━━━━━━━━━┓\n",
              "┃<span style=\"font-weight: bold\"> Layer (type)                    </span>┃<span style=\"font-weight: bold\"> Output Shape           </span>┃<span style=\"font-weight: bold\">       Param # </span>┃\n",
              "┡━━━━━━━━━━━━━━━━━━━━━━━━━━━━━━━━━╇━━━━━━━━━━━━━━━━━━━━━━━━╇━━━━━━━━━━━━━━━┩\n",
              "│ efficientnetb2 (<span style=\"color: #0087ff; text-decoration-color: #0087ff\">Functional</span>)     │ (<span style=\"color: #00d7ff; text-decoration-color: #00d7ff\">None</span>, <span style=\"color: #00af00; text-decoration-color: #00af00\">3</span>, <span style=\"color: #00af00; text-decoration-color: #00af00\">3</span>, <span style=\"color: #00af00; text-decoration-color: #00af00\">1408</span>)     │     <span style=\"color: #00af00; text-decoration-color: #00af00\">7,768,569</span> │\n",
              "├─────────────────────────────────┼────────────────────────┼───────────────┤\n",
              "│ global_average_pooling2d_1      │ (<span style=\"color: #00d7ff; text-decoration-color: #00d7ff\">None</span>, <span style=\"color: #00af00; text-decoration-color: #00af00\">1408</span>)           │             <span style=\"color: #00af00; text-decoration-color: #00af00\">0</span> │\n",
              "│ (<span style=\"color: #0087ff; text-decoration-color: #0087ff\">GlobalAveragePooling2D</span>)        │                        │               │\n",
              "├─────────────────────────────────┼────────────────────────┼───────────────┤\n",
              "│ dropout_1 (<span style=\"color: #0087ff; text-decoration-color: #0087ff\">Dropout</span>)             │ (<span style=\"color: #00d7ff; text-decoration-color: #00d7ff\">None</span>, <span style=\"color: #00af00; text-decoration-color: #00af00\">1408</span>)           │             <span style=\"color: #00af00; text-decoration-color: #00af00\">0</span> │\n",
              "├─────────────────────────────────┼────────────────────────┼───────────────┤\n",
              "│ dense_2 (<span style=\"color: #0087ff; text-decoration-color: #0087ff\">Dense</span>)                 │ (<span style=\"color: #00d7ff; text-decoration-color: #00d7ff\">None</span>, <span style=\"color: #00af00; text-decoration-color: #00af00\">128</span>)            │       <span style=\"color: #00af00; text-decoration-color: #00af00\">180,352</span> │\n",
              "├─────────────────────────────────┼────────────────────────┼───────────────┤\n",
              "│ dense_3 (<span style=\"color: #0087ff; text-decoration-color: #0087ff\">Dense</span>)                 │ (<span style=\"color: #00d7ff; text-decoration-color: #00d7ff\">None</span>, <span style=\"color: #00af00; text-decoration-color: #00af00\">7</span>)              │           <span style=\"color: #00af00; text-decoration-color: #00af00\">903</span> │\n",
              "└─────────────────────────────────┴────────────────────────┴───────────────┘\n",
              "</pre>\n"
            ]
          },
          "metadata": {}
        },
        {
          "output_type": "display_data",
          "data": {
            "text/plain": [
              "\u001b[1m Total params: \u001b[0m\u001b[38;5;34m7,949,824\u001b[0m (30.33 MB)\n"
            ],
            "text/html": [
              "<pre style=\"white-space:pre;overflow-x:auto;line-height:normal;font-family:Menlo,'DejaVu Sans Mono',consolas,'Courier New',monospace\"><span style=\"font-weight: bold\"> Total params: </span><span style=\"color: #00af00; text-decoration-color: #00af00\">7,949,824</span> (30.33 MB)\n",
              "</pre>\n"
            ]
          },
          "metadata": {}
        },
        {
          "output_type": "display_data",
          "data": {
            "text/plain": [
              "\u001b[1m Trainable params: \u001b[0m\u001b[38;5;34m7,882,249\u001b[0m (30.07 MB)\n"
            ],
            "text/html": [
              "<pre style=\"white-space:pre;overflow-x:auto;line-height:normal;font-family:Menlo,'DejaVu Sans Mono',consolas,'Courier New',monospace\"><span style=\"font-weight: bold\"> Trainable params: </span><span style=\"color: #00af00; text-decoration-color: #00af00\">7,882,249</span> (30.07 MB)\n",
              "</pre>\n"
            ]
          },
          "metadata": {}
        },
        {
          "output_type": "display_data",
          "data": {
            "text/plain": [
              "\u001b[1m Non-trainable params: \u001b[0m\u001b[38;5;34m67,575\u001b[0m (263.97 KB)\n"
            ],
            "text/html": [
              "<pre style=\"white-space:pre;overflow-x:auto;line-height:normal;font-family:Menlo,'DejaVu Sans Mono',consolas,'Courier New',monospace\"><span style=\"font-weight: bold\"> Non-trainable params: </span><span style=\"color: #00af00; text-decoration-color: #00af00\">67,575</span> (263.97 KB)\n",
              "</pre>\n"
            ]
          },
          "metadata": {}
        }
      ]
    },
    {
      "cell_type": "code",
      "source": [
        "#Compiling model by providing the Optimizer, Loss and Metrics\n",
        "model.compile(\n",
        "    optimizer = tf.keras.optimizers.Adam(learning_rate=0.001, beta_2=0.999, epsilon=1e-07),\n",
        "    loss = 'categorical_crossentropy',\n",
        "    metrics = ['accuracy' , tf.keras.metrics.Precision(name='precision'),tf.keras.metrics.Recall(name='recall')]\n",
        ")"
      ],
      "metadata": {
        "id": "VUf2FOnU3MSP"
      },
      "execution_count": 59,
      "outputs": []
    },
    {
      "cell_type": "code",
      "source": [
        "#Train the model\n",
        "history = model.fit(\n",
        "    train_dataset,\n",
        "    steps_per_epoch = len(paths) // BATCH_SIZE,\n",
        "    epochs = 25,\n",
        "    validation_data = val_dataset,\n",
        "    validation_steps = len(Val_paths) // BATCH_SIZE,\n",
        "    class_weight = classWeight,\n",
        "    callbacks = [checkpoint, earlystop] # Added callbacks here\n",
        ")"
      ],
      "metadata": {
        "colab": {
          "base_uri": "https://localhost:8080/"
        },
        "id": "C9dy2Bl25C1x",
        "outputId": "307d779f-596b-4c8c-8092-a4d86e9c1d02"
      },
      "execution_count": null,
      "outputs": [
        {
          "output_type": "stream",
          "name": "stdout",
          "text": [
            "Epoch 1/25\n",
            "\u001b[1m717/717\u001b[0m \u001b[32m━━━━━━━━━━━━━━━━━━━━\u001b[0m\u001b[37m\u001b[0m \u001b[1m0s\u001b[0m 83ms/step - accuracy: 0.3308 - loss: 3.0647 - precision: 0.5845 - recall: 0.1202\n",
            "Epoch 1: val_loss improved from inf to 1.42898, saving model to best_weight.weights.h5\n",
            "\u001b[1m717/717\u001b[0m \u001b[32m━━━━━━━━━━━━━━━━━━━━\u001b[0m\u001b[37m\u001b[0m \u001b[1m184s\u001b[0m 103ms/step - accuracy: 0.3309 - loss: 3.0644 - precision: 0.5847 - recall: 0.1203 - val_accuracy: 0.4508 - val_loss: 1.4290 - val_precision: 0.6813 - val_recall: 0.2903\n",
            "Epoch 2/25\n",
            "\u001b[1m717/717\u001b[0m \u001b[32m━━━━━━━━━━━━━━━━━━━━\u001b[0m\u001b[37m\u001b[0m \u001b[1m0s\u001b[0m 82ms/step - accuracy: 0.4825 - loss: 2.4054 - precision: 0.7076 - recall: 0.2723\n",
            "Epoch 2: val_loss did not improve from 1.42898\n",
            "\u001b[1m717/717\u001b[0m \u001b[32m━━━━━━━━━━━━━━━━━━━━\u001b[0m\u001b[37m\u001b[0m \u001b[1m119s\u001b[0m 87ms/step - accuracy: 0.4825 - loss: 2.4054 - precision: 0.7075 - recall: 0.2724 - val_accuracy: 0.4544 - val_loss: 1.4480 - val_precision: 0.6059 - val_recall: 0.2748\n",
            "Epoch 3/25\n",
            "\u001b[1m717/717\u001b[0m \u001b[32m━━━━━━━━━━━━━━━━━━━━\u001b[0m\u001b[37m\u001b[0m \u001b[1m0s\u001b[0m 83ms/step - accuracy: 0.5106 - loss: 2.2719 - precision: 0.7077 - recall: 0.3094\n",
            "Epoch 3: val_loss improved from 1.42898 to 1.25038, saving model to best_weight.weights.h5\n",
            "\u001b[1m717/717\u001b[0m \u001b[32m━━━━━━━━━━━━━━━━━━━━\u001b[0m\u001b[37m\u001b[0m \u001b[1m64s\u001b[0m 89ms/step - accuracy: 0.5107 - loss: 2.2719 - precision: 0.7076 - recall: 0.3094 - val_accuracy: 0.5335 - val_loss: 1.2504 - val_precision: 0.7898 - val_recall: 0.2676\n",
            "Epoch 4/25\n",
            "\u001b[1m717/717\u001b[0m \u001b[32m━━━━━━━━━━━━━━━━━━━━\u001b[0m\u001b[37m\u001b[0m \u001b[1m0s\u001b[0m 83ms/step - accuracy: 0.5359 - loss: 2.1466 - precision: 0.7195 - recall: 0.3465\n",
            "Epoch 4: val_loss improved from 1.25038 to 1.21573, saving model to best_weight.weights.h5\n",
            "\u001b[1m717/717\u001b[0m \u001b[32m━━━━━━━━━━━━━━━━━━━━\u001b[0m\u001b[37m\u001b[0m \u001b[1m64s\u001b[0m 90ms/step - accuracy: 0.5359 - loss: 2.1466 - precision: 0.7195 - recall: 0.3465 - val_accuracy: 0.5487 - val_loss: 1.2157 - val_precision: 0.6715 - val_recall: 0.4225\n",
            "Epoch 5/25\n",
            "\u001b[1m717/717\u001b[0m \u001b[32m━━━━━━━━━━━━━━━━━━━━\u001b[0m\u001b[37m\u001b[0m \u001b[1m0s\u001b[0m 82ms/step - accuracy: 0.5530 - loss: 2.0744 - precision: 0.7149 - recall: 0.3651\n",
            "Epoch 5: val_loss improved from 1.21573 to 1.11632, saving model to best_weight.weights.h5\n",
            "\u001b[1m717/717\u001b[0m \u001b[32m━━━━━━━━━━━━━━━━━━━━\u001b[0m\u001b[37m\u001b[0m \u001b[1m81s\u001b[0m 113ms/step - accuracy: 0.5530 - loss: 2.0744 - precision: 0.7149 - recall: 0.3651 - val_accuracy: 0.5752 - val_loss: 1.1163 - val_precision: 0.7116 - val_recall: 0.4356\n",
            "Epoch 6/25\n",
            "\u001b[1m717/717\u001b[0m \u001b[32m━━━━━━━━━━━━━━━━━━━━\u001b[0m\u001b[37m\u001b[0m \u001b[1m0s\u001b[0m 83ms/step - accuracy: 0.5700 - loss: 1.9805 - precision: 0.7303 - recall: 0.3976\n",
            "Epoch 6: val_loss did not improve from 1.11632\n",
            "\u001b[1m717/717\u001b[0m \u001b[32m━━━━━━━━━━━━━━━━━━━━\u001b[0m\u001b[37m\u001b[0m \u001b[1m81s\u001b[0m 113ms/step - accuracy: 0.5700 - loss: 1.9806 - precision: 0.7303 - recall: 0.3976 - val_accuracy: 0.5426 - val_loss: 1.2117 - val_precision: 0.6792 - val_recall: 0.3987\n",
            "Epoch 7/25\n",
            "\u001b[1m717/717\u001b[0m \u001b[32m━━━━━━━━━━━━━━━━━━━━\u001b[0m\u001b[37m\u001b[0m \u001b[1m0s\u001b[0m 82ms/step - accuracy: 0.5741 - loss: 1.9839 - precision: 0.7355 - recall: 0.4064\n",
            "Epoch 7: val_loss improved from 1.11632 to 1.11501, saving model to best_weight.weights.h5\n",
            "\u001b[1m717/717\u001b[0m \u001b[32m━━━━━━━━━━━━━━━━━━━━\u001b[0m\u001b[37m\u001b[0m \u001b[1m64s\u001b[0m 89ms/step - accuracy: 0.5741 - loss: 1.9838 - precision: 0.7355 - recall: 0.4064 - val_accuracy: 0.5841 - val_loss: 1.1150 - val_precision: 0.7079 - val_recall: 0.4431\n",
            "Epoch 8/25\n",
            "\u001b[1m717/717\u001b[0m \u001b[32m━━━━━━━━━━━━━━━━━━━━\u001b[0m\u001b[37m\u001b[0m \u001b[1m0s\u001b[0m 82ms/step - accuracy: 0.5901 - loss: 1.8783 - precision: 0.7261 - recall: 0.4262\n",
            "Epoch 8: val_loss did not improve from 1.11501\n",
            "\u001b[1m717/717\u001b[0m \u001b[32m━━━━━━━━━━━━━━━━━━━━\u001b[0m\u001b[37m\u001b[0m \u001b[1m80s\u001b[0m 111ms/step - accuracy: 0.5901 - loss: 1.8783 - precision: 0.7261 - recall: 0.4262 - val_accuracy: 0.5641 - val_loss: 1.1660 - val_precision: 0.7253 - val_recall: 0.3633\n",
            "Epoch 9/25\n",
            "\u001b[1m717/717\u001b[0m \u001b[32m━━━━━━━━━━━━━━━━━━━━\u001b[0m\u001b[37m\u001b[0m \u001b[1m0s\u001b[0m 83ms/step - accuracy: 0.5938 - loss: 1.8683 - precision: 0.7380 - recall: 0.4295\n",
            "Epoch 9: val_loss did not improve from 1.11501\n",
            "\u001b[1m717/717\u001b[0m \u001b[32m━━━━━━━━━━━━━━━━━━━━\u001b[0m\u001b[37m\u001b[0m \u001b[1m82s\u001b[0m 114ms/step - accuracy: 0.5938 - loss: 1.8682 - precision: 0.7380 - recall: 0.4295 - val_accuracy: 0.5758 - val_loss: 1.1503 - val_precision: 0.6837 - val_recall: 0.4656\n",
            "Epoch 10/25\n",
            "\u001b[1m717/717\u001b[0m \u001b[32m━━━━━━━━━━━━━━━━━━━━\u001b[0m\u001b[37m\u001b[0m \u001b[1m0s\u001b[0m 82ms/step - accuracy: 0.5965 - loss: 1.8336 - precision: 0.7327 - recall: 0.4349\n",
            "Epoch 10: val_loss did not improve from 1.11501\n",
            "\u001b[1m717/717\u001b[0m \u001b[32m━━━━━━━━━━━━━━━━━━━━\u001b[0m\u001b[37m\u001b[0m \u001b[1m82s\u001b[0m 115ms/step - accuracy: 0.5965 - loss: 1.8335 - precision: 0.7327 - recall: 0.4349 - val_accuracy: 0.5876 - val_loss: 1.1178 - val_precision: 0.7047 - val_recall: 0.4462\n",
            "Epoch 11/25\n",
            "\u001b[1m717/717\u001b[0m \u001b[32m━━━━━━━━━━━━━━━━━━━━\u001b[0m\u001b[37m\u001b[0m \u001b[1m0s\u001b[0m 82ms/step - accuracy: 0.6155 - loss: 1.7538 - precision: 0.7478 - recall: 0.4650\n",
            "Epoch 11: val_loss improved from 1.11501 to 1.05270, saving model to best_weight.weights.h5\n",
            "\u001b[1m717/717\u001b[0m \u001b[32m━━━━━━━━━━━━━━━━━━━━\u001b[0m\u001b[37m\u001b[0m \u001b[1m64s\u001b[0m 89ms/step - accuracy: 0.6155 - loss: 1.7538 - precision: 0.7478 - recall: 0.4650 - val_accuracy: 0.6110 - val_loss: 1.0527 - val_precision: 0.7138 - val_recall: 0.4867\n",
            "Epoch 12/25\n",
            "\u001b[1m717/717\u001b[0m \u001b[32m━━━━━━━━━━━━━━━━━━━━\u001b[0m\u001b[37m\u001b[0m \u001b[1m0s\u001b[0m 82ms/step - accuracy: 0.6154 - loss: 1.7470 - precision: 0.7393 - recall: 0.4728\n",
            "Epoch 12: val_loss did not improve from 1.05270\n",
            "\u001b[1m717/717\u001b[0m \u001b[32m━━━━━━━━━━━━━━━━━━━━\u001b[0m\u001b[37m\u001b[0m \u001b[1m62s\u001b[0m 87ms/step - accuracy: 0.6155 - loss: 1.7469 - precision: 0.7393 - recall: 0.4728 - val_accuracy: 0.6065 - val_loss: 1.0602 - val_precision: 0.7045 - val_recall: 0.4848\n",
            "Epoch 13/25\n",
            "\u001b[1m345/717\u001b[0m \u001b[32m━━━━━━━━━\u001b[0m\u001b[37m━━━━━━━━━━━\u001b[0m \u001b[1m30s\u001b[0m 82ms/step - accuracy: 0.6170 - loss: 1.7100 - precision: 0.7480 - recall: 0.4706"
          ]
        }
      ]
    },
    {
      "cell_type": "code",
      "source": [
        "model.layers[0].trainable = False"
      ],
      "metadata": {
        "id": "P_keNUXj5e_F"
      },
      "execution_count": null,
      "outputs": []
    },
    {
      "cell_type": "code",
      "source": [
        "#Defining our callbacks\n",
        "checkpoint = tf.keras.callbacks.ModelCheckpoint(\n",
        "    \"best_weight.weights.h5\",\n",
        "    verbose = 1,\n",
        "    save_best_only = True,\n",
        "    save_weights_only = True\n",
        ")\n",
        "earlystop = tf.keras.callbacks.EarlyStopping(patience = 4)"
      ],
      "metadata": {
        "id": "A2afzQYn5qj7"
      },
      "execution_count": null,
      "outputs": []
    },
    {
      "cell_type": "code",
      "source": [
        "model.load_weights(\"best_weight.weights.h5\")"
      ],
      "metadata": {
        "id": "ue4Cfqo_7iOu"
      },
      "execution_count": null,
      "outputs": []
    },
    {
      "cell_type": "code",
      "source": [
        "#Crate a Dataset Object for 'Testing' Set just the way we did for Training and Validation\n",
        "test_image_paths = list(test_path.glob(\"*/*\"))\n",
        "test_image_paths = list(map(lambda x: str(x), test_image_paths))\n",
        "test_labels = list(map(lambda x : get_label(x), test_image_paths))\n",
        "\n",
        "test_labels = le.transform(test_labels)\n",
        "test_labels = tf.keras.utils.to_categorical(test_labels)\n",
        "test_image_paths = tf.convert_to_tensor(test_image_paths)\n",
        "test_labels = tf.convert_to_tensor(test_labels)\n",
        "\n",
        "def decode_image(image, label):\n",
        "  image = tf.io.read_file(image)\n",
        "  image = tf.io.decode_jpeg(image, channels=3)\n",
        "  image = tf.image.resize(image, [96, 96], method=\"bilinear\")\n",
        "  return image, label\n",
        "\n",
        "test_dataset = (\n",
        "  tf.data.Dataset\n",
        "  .from_tensor_slices((test_image_paths, test_labels))\n",
        "  .map(decode_image)\n",
        "  .batch(BATCH_SIZE)\n",
        ")"
      ],
      "metadata": {
        "id": "YBbFsqlE7mFm"
      },
      "execution_count": null,
      "outputs": []
    },
    {
      "cell_type": "code",
      "source": [
        "#Verify Test Dataset Object\n",
        "image, label = next(iter(test_dataset))\n",
        "print(image.shape)\n",
        "print(label.shape)"
      ],
      "metadata": {
        "id": "RS99a1LC9hQS"
      },
      "execution_count": null,
      "outputs": []
    },
    {
      "cell_type": "code",
      "source": [
        "#View a sample Validation Image\n",
        "print(le.inverse_transform(np.argmax(label , axis =1))[0])\n",
        "plt.imshow((image[0].numpy()/255).reshape(96,96,3))"
      ],
      "metadata": {
        "id": "WdW6sSF89nbH"
      },
      "execution_count": null,
      "outputs": []
    },
    {
      "cell_type": "code",
      "source": [
        "#Evaluating the loading model\n",
        "loss,  acc, prec, rec = model.evaluate(test_dataset)\n",
        "#Evaluating the loading model\n",
        "loss,  acc, prec, rec = model.evaluate(test_dataset)\n",
        "print(\"Testing Accuracy: {:.2f}%\".format(acc * 100))\n",
        "print(\"Testing Precision: {:.2f}%\".format(prec * 100))\n",
        "print(\"Testing Recall: {:.2f}%\".format(rec * 100))"
      ],
      "metadata": {
        "id": "87NZBu0L9yMW"
      },
      "execution_count": null,
      "outputs": []
    },
    {
      "cell_type": "code",
      "source": [
        "#Save Model\n",
        "model.save(\"FacialExpressionModel.h5\")"
      ],
      "metadata": {
        "id": "gYKL55w8-EDd"
      },
      "execution_count": null,
      "outputs": []
    },
    {
      "cell_type": "code",
      "source": [
        "#Save Label Encoder\n",
        "import pickle\n",
        "def save_object(obj , name):\n",
        "  pickle_obj = open(f\"{name}.pkl\" , \"wb\")\n",
        "  pickle.dump(obj , pickle_obj)\n",
        "  pickle_obj.close()"
      ],
      "metadata": {
        "id": "h8ggQBa1-ZFk"
      },
      "execution_count": null,
      "outputs": []
    },
    {
      "cell_type": "code",
      "source": [
        "# @title Default title text\n",
        "save_object(le, \"LabelEncoder\")"
      ],
      "metadata": {
        "id": "6vGIP9Vl2k6B"
      },
      "execution_count": null,
      "outputs": []
    },
    {
      "cell_type": "code",
      "source": [
        "def plot_training_history(history):\n",
        "    metrics = ['accuracy', 'precision', 'recall']\n",
        "\n",
        "    plt.figure(figsize=(18, 5))\n",
        "\n",
        "    for i, metric in enumerate(metrics, 1):\n",
        "        plt.subplot(1, 3, i)\n",
        "        plt.plot([x * 100 for x in history.history[metric]], label=f'Train {metric}')\n",
        "        plt.plot([x * 100 for x in history.history[f'val_{metric}']], label=f'Val {metric}')\n",
        "        plt.xlabel(\"Epochs\")\n",
        "        plt.ylabel(f\"{metric.capitalize()} (%)\")\n",
        "        plt.title(f'Train vs Val {metric.capitalize()}')\n",
        "        plt.legend()\n",
        "\n",
        "    plt.tight_layout()\n",
        "    plt.show()"
      ],
      "metadata": {
        "id": "Ow0bRGPI2eqQ"
      },
      "execution_count": null,
      "outputs": []
    },
    {
      "cell_type": "code",
      "metadata": {
        "id": "2922e2ca"
      },
      "source": [
        "plot_training_history(history)"
      ],
      "execution_count": null,
      "outputs": []
    }
  ]
}