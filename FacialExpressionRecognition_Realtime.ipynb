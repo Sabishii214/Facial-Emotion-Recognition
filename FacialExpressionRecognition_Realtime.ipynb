{
 "cells": [
  {
   "cell_type": "code",
   "execution_count": 14,
   "id": "legislative-trade",
   "metadata": {},
   "outputs": [
    {
     "ename": "ModuleNotFoundError",
     "evalue": "No module named 'tensorflow'",
     "output_type": "error",
     "traceback": [
      "\u001b[1;31m---------------------------------------------------------------------------\u001b[0m",
      "\u001b[1;31mModuleNotFoundError\u001b[0m                       Traceback (most recent call last)",
      "Cell \u001b[1;32mIn[14], line 1\u001b[0m\n\u001b[1;32m----> 1\u001b[0m \u001b[38;5;28;01mimport\u001b[39;00m \u001b[38;5;21;01mtensorflow\u001b[39;00m \u001b[38;5;28;01mas\u001b[39;00m \u001b[38;5;21;01mtf\u001b[39;00m\n\u001b[0;32m      2\u001b[0m \u001b[38;5;28;01mimport\u001b[39;00m \u001b[38;5;21;01mnumpy\u001b[39;00m \u001b[38;5;28;01mas\u001b[39;00m \u001b[38;5;21;01mnp\u001b[39;00m\n\u001b[0;32m      3\u001b[0m \u001b[38;5;28;01mimport\u001b[39;00m \u001b[38;5;21;01mcv2\u001b[39;00m\n",
      "\u001b[1;31mModuleNotFoundError\u001b[0m: No module named 'tensorflow'"
     ]
    }
   ],
   "source": [
    "import tensorflow as tf\n",
    "import numpy as np\n",
    "import cv2\n",
    "\n",
    "import dlib\n",
    "import pickle"
   ]
  },
  {
   "cell_type": "code",
   "execution_count": 16,
   "id": "arranged-provider",
   "metadata": {},
   "outputs": [],
   "source": [
    "def get_model():\n",
    "    backbone = tf.keras.applications.EfficientNetB2(\n",
    "        input_shape=(96, 96, 3),\n",
    "        include_top=False,\n",
    "        weights=None\n",
    "    )\n",
    "    model = tf.keras.Sequential([\n",
    "        backbone,\n",
    "        tf.keras.layers.GlobalAveragePooling2D(),\n",
    "        tf.keras.layers.Dropout(0.3),\n",
    "        tf.keras.layers.Dense(128, activation='relu'),\n",
    "        tf.keras.layers.Dense(7, activation='softmax')\n",
    "    ])\n",
    "    return model"
   ]
  },
  {
   "cell_type": "code",
   "execution_count": 18,
   "id": "double-subscriber",
   "metadata": {},
   "outputs": [
    {
     "ename": "NameError",
     "evalue": "name 'tf' is not defined",
     "output_type": "error",
     "traceback": [
      "\u001b[1;31m---------------------------------------------------------------------------\u001b[0m",
      "\u001b[1;31mNameError\u001b[0m                                 Traceback (most recent call last)",
      "Cell \u001b[1;32mIn[18], line 1\u001b[0m\n\u001b[1;32m----> 1\u001b[0m model \u001b[38;5;241m=\u001b[39m get_model()\n\u001b[0;32m      2\u001b[0m model\u001b[38;5;241m.\u001b[39mload_weights(\u001b[38;5;124m\"\u001b[39m\u001b[38;5;124mbest_weights.h5\u001b[39m\u001b[38;5;124m\"\u001b[39m)\n",
      "Cell \u001b[1;32mIn[16], line 2\u001b[0m, in \u001b[0;36mget_model\u001b[1;34m()\u001b[0m\n\u001b[0;32m      1\u001b[0m \u001b[38;5;28;01mdef\u001b[39;00m \u001b[38;5;21mget_model\u001b[39m():\n\u001b[1;32m----> 2\u001b[0m     backbone \u001b[38;5;241m=\u001b[39m tf\u001b[38;5;241m.\u001b[39mkeras\u001b[38;5;241m.\u001b[39mapplications\u001b[38;5;241m.\u001b[39mEfficientNetB2(\n\u001b[0;32m      3\u001b[0m         input_shape\u001b[38;5;241m=\u001b[39m(\u001b[38;5;241m96\u001b[39m, \u001b[38;5;241m96\u001b[39m, \u001b[38;5;241m3\u001b[39m),\n\u001b[0;32m      4\u001b[0m         include_top\u001b[38;5;241m=\u001b[39m\u001b[38;5;28;01mFalse\u001b[39;00m,\n\u001b[0;32m      5\u001b[0m         weights\u001b[38;5;241m=\u001b[39m\u001b[38;5;28;01mNone\u001b[39;00m\n\u001b[0;32m      6\u001b[0m     )\n\u001b[0;32m      7\u001b[0m     model \u001b[38;5;241m=\u001b[39m tf\u001b[38;5;241m.\u001b[39mkeras\u001b[38;5;241m.\u001b[39mSequential([\n\u001b[0;32m      8\u001b[0m         backbone,\n\u001b[0;32m      9\u001b[0m         tf\u001b[38;5;241m.\u001b[39mkeras\u001b[38;5;241m.\u001b[39mlayers\u001b[38;5;241m.\u001b[39mGlobalAveragePooling2D(),\n\u001b[1;32m   (...)\u001b[0m\n\u001b[0;32m     12\u001b[0m         tf\u001b[38;5;241m.\u001b[39mkeras\u001b[38;5;241m.\u001b[39mlayers\u001b[38;5;241m.\u001b[39mDense(\u001b[38;5;241m7\u001b[39m, activation\u001b[38;5;241m=\u001b[39m\u001b[38;5;124m'\u001b[39m\u001b[38;5;124msoftmax\u001b[39m\u001b[38;5;124m'\u001b[39m)\n\u001b[0;32m     13\u001b[0m     ])\n\u001b[0;32m     14\u001b[0m     \u001b[38;5;28;01mreturn\u001b[39;00m model\n",
      "\u001b[1;31mNameError\u001b[0m: name 'tf' is not defined"
     ]
    }
   ],
   "source": [
    "model = get_model()\n",
    "model.load_weights(\"best_weights.h5\") # Load the saved weights "
   ]
  },
  {
   "cell_type": "code",
   "execution_count": 20,
   "id": "documentary-twist",
   "metadata": {},
   "outputs": [
    {
     "ename": "NameError",
     "evalue": "name 'pickle' is not defined",
     "output_type": "error",
     "traceback": [
      "\u001b[1;31m---------------------------------------------------------------------------\u001b[0m",
      "\u001b[1;31mNameError\u001b[0m                                 Traceback (most recent call last)",
      "Cell \u001b[1;32mIn[20], line 7\u001b[0m\n\u001b[0;32m      4\u001b[0m     obj \u001b[38;5;241m=\u001b[39m pickle\u001b[38;5;241m.\u001b[39mload(pickle_obj)\n\u001b[0;32m      5\u001b[0m     \u001b[38;5;28;01mreturn\u001b[39;00m obj\n\u001b[1;32m----> 7\u001b[0m Le \u001b[38;5;241m=\u001b[39m load_object(\u001b[38;5;124m\"\u001b[39m\u001b[38;5;124mLabelEncoder\u001b[39m\u001b[38;5;124m\"\u001b[39m)\n",
      "Cell \u001b[1;32mIn[20], line 4\u001b[0m, in \u001b[0;36mload_object\u001b[1;34m(name)\u001b[0m\n\u001b[0;32m      2\u001b[0m \u001b[38;5;28;01mdef\u001b[39;00m \u001b[38;5;21mload_object\u001b[39m(name):\n\u001b[0;32m      3\u001b[0m     pickle_obj \u001b[38;5;241m=\u001b[39m \u001b[38;5;28mopen\u001b[39m(\u001b[38;5;124mf\u001b[39m\u001b[38;5;124m\"\u001b[39m\u001b[38;5;132;01m{\u001b[39;00mname\u001b[38;5;132;01m}\u001b[39;00m\u001b[38;5;124m.pck\u001b[39m\u001b[38;5;124m\"\u001b[39m,\u001b[38;5;124m\"\u001b[39m\u001b[38;5;124mrb\u001b[39m\u001b[38;5;124m\"\u001b[39m)\n\u001b[1;32m----> 4\u001b[0m     obj \u001b[38;5;241m=\u001b[39m pickle\u001b[38;5;241m.\u001b[39mload(pickle_obj)\n\u001b[0;32m      5\u001b[0m     \u001b[38;5;28;01mreturn\u001b[39;00m obj\n",
      "\u001b[1;31mNameError\u001b[0m: name 'pickle' is not defined"
     ]
    }
   ],
   "source": [
    "# Load LabelEncoder \n",
    "def load_object(name):\n",
    "    pickle_obj = open(f\"{name}.pck\",\"rb\")\n",
    "    obj = pickle.load(pickle_obj)\n",
    "    return obj\n",
    "\n",
    "Le = load_object(\"LabelEncoder\")"
   ]
  },
  {
   "cell_type": "code",
   "execution_count": 22,
   "id": "provincial-cambridge",
   "metadata": {},
   "outputs": [],
   "source": [
    "def ProcessImage(image):\n",
    "    image = tf.convert_to_tensor(image)\n",
    "    image = tf.image.resize(image , [96 , 96] , method=\"bilinear\")\n",
    "    image = tf.expand_dims(image , 0)\n",
    "    return image\n",
    "\n",
    "def RealtimePrediction(image , model, encoder_):\n",
    "    prediction = model.predict(image)\n",
    "    prediction = np.argmax(prediction , axis = 1)\n",
    "    return encoder_.inverse_transform(prediction)[0]\n",
    "\n",
    "def rect_to_bb(rect):\n",
    "    x = rect.left()\n",
    "    y = rect.top()\n",
    "    w = rect.right() - x\n",
    "    h = rect.bottom() - y\n",
    "    return (x, y, w, h)"
   ]
  },
  {
   "cell_type": "code",
   "execution_count": null,
   "id": "diverse-measurement",
   "metadata": {},
   "outputs": [],
   "source": [
    "VideoCapture = cv2.VideoCapture(0)\n",
    "\n",
    "detector = dlib.get_frontal_face_detector()\n",
    "\n",
    "while True :\n",
    "    \n",
    "    ret , frame = VideoCapture.read() \n",
    "    \n",
    "    if not ret :\n",
    "        break\n",
    "\n",
    "    gray = cv2.cvtColor( frame , cv2.COLOR_BGR2GRAY)\n",
    "\n",
    "    rects = detector(gray , 0)\n",
    "\n",
    "    if len(rects) >= 1 :\n",
    "        for rect in rects :\n",
    "            (x , y , w , h) = rect_to_bb(rect)\n",
    "            img = gray[y-10 : y+h+10 , x-10 : x+w+10]\n",
    "            \n",
    "            if img.shape[0] == 0 or img.shape[1] == 0 :\n",
    "                cv2.imshow(\"Frame\", frame)\n",
    "                \n",
    "            else :\n",
    "                img = cv2.cvtColor(img , cv2.COLOR_GRAY2RGB)\n",
    "                img = ProcessImage(img)\n",
    "                out = RealtimePrediction(img , model , Le)\n",
    "                cv2.rectangle(frame, (x, y), (x+w, y+h),(0, 255, 0), 2)\n",
    "                z = y - 15 if y - 15 > 15 else y + 15\n",
    "                cv2.putText(frame, str(out), (x, z), cv2.FONT_HERSHEY_SIMPLEX,0.75, (0, 255, 0), 2)\n",
    "                \n",
    "        cv2.imshow(\"Frame\", frame)\n",
    "            \n",
    "    else :\n",
    "        cv2.imshow(\"Frame\", frame)\n",
    "        \n",
    "    if cv2.waitKey(1) & 0xFF == ord('q'):\n",
    "        break\n",
    "        \n",
    "VideoCapture.release()\n",
    "cv2.destroyAllWindows()"
   ]
  }
 ],
 "metadata": {
  "kernelspec": {
   "display_name": "Python 3 (ipykernel)",
   "language": "python",
   "name": "python3"
  },
  "language_info": {
   "codemirror_mode": {
    "name": "ipython",
    "version": 3
   },
   "file_extension": ".py",
   "mimetype": "text/x-python",
   "name": "python",
   "nbconvert_exporter": "python",
   "pygments_lexer": "ipython3",
   "version": "3.12.7"
  }
 },
 "nbformat": 4,
 "nbformat_minor": 5
}
